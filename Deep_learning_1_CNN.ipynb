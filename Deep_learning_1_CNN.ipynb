{
  "nbformat": 4,
  "nbformat_minor": 0,
  "metadata": {
    "colab": {
      "name": "Deep_learning_1_CNN",
      "provenance": [],
      "authorship_tag": "ABX9TyNLFvm/2wJ7PFfND/cU5fQy",
      "include_colab_link": true
    },
    "kernelspec": {
      "name": "python3",
      "display_name": "Python 3"
    },
    "accelerator": "GPU"
  },
  "cells": [
    {
      "cell_type": "markdown",
      "metadata": {
        "id": "view-in-github",
        "colab_type": "text"
      },
      "source": [
        "<a href=\"https://colab.research.google.com/github/Sanjeevnara/Deep-Learning/blob/master/Deep_learning_1_CNN.ipynb\" target=\"_parent\"><img src=\"https://colab.research.google.com/assets/colab-badge.svg\" alt=\"Open In Colab\"/></a>"
      ]
    },
    {
      "cell_type": "markdown",
      "metadata": {
        "id": "2Bvi1Wlsh_mL",
        "colab_type": "text"
      },
      "source": [
        "# Introduction to CNN\n",
        "## This tutorial is for hands on with CNN and Cifar data\n",
        "Lets first load the Cifar 10 datasets "
      ]
    },
    {
      "cell_type": "code",
      "metadata": {
        "id": "kPyJWMIyhUl8",
        "colab_type": "code",
        "colab": {}
      },
      "source": [
        "# Import tensorflow and matplotlib\n",
        "\n",
        "import tensorflow as tf \n",
        "import matplotlib.pyplot as plt\n"
      ],
      "execution_count": null,
      "outputs": []
    },
    {
      "cell_type": "code",
      "metadata": {
        "id": "A_M1cZeOlkQk",
        "colab_type": "code",
        "colab": {
          "base_uri": "https://localhost:8080/",
          "height": 85
        },
        "outputId": "b50849c8-11ae-44cb-b506-c5527b28eab3"
      },
      "source": [
        "# Now we load the data and import layers , model and data \n",
        "\n",
        "(train_images, train_labels), (test_images, test_labels) = tf.keras.datasets.cifar10.load_data()\n",
        "\n",
        "print('Train data is ' , train_images.shape , '& test data is ', test_images.shape)\n",
        "\n",
        "print('Type of train_images variable is ', type(train_images))\n",
        "\n",
        "# we also have to normalise the data \n",
        "\n",
        "train_images, test_images = train_images / 255.0, test_images / 255.0\n",
        "\n",
        "\n",
        "\n",
        "\n"
      ],
      "execution_count": null,
      "outputs": [
        {
          "output_type": "stream",
          "text": [
            "Downloading data from https://www.cs.toronto.edu/~kriz/cifar-10-python.tar.gz\n",
            "170500096/170498071 [==============================] - 6s 0us/step\n",
            "Train data is  (50000, 32, 32, 3) & test data is  (10000, 32, 32, 3)\n",
            "Type of train_images variable is  <class 'numpy.ndarray'>\n"
          ],
          "name": "stdout"
        }
      ]
    },
    {
      "cell_type": "code",
      "metadata": {
        "id": "nYpg8TSx18UI",
        "colab_type": "code",
        "colab": {
          "base_uri": "https://localhost:8080/",
          "height": 283
        },
        "outputId": "a73eb5c5-9150-4c39-85bd-e92afe3d689f"
      },
      "source": [
        "# Lets visualise some of the images \n",
        "plt.imshow(train_images[1000],cmap=plt.cm.binary)\n",
        "\n"
      ],
      "execution_count": 18,
      "outputs": [
        {
          "output_type": "execute_result",
          "data": {
            "text/plain": [
              "<matplotlib.image.AxesImage at 0x7f41684ac3c8>"
            ]
          },
          "metadata": {
            "tags": []
          },
          "execution_count": 18
        },
        {
          "output_type": "display_data",
          "data": {
            "image/png": "[encoded data removed]",
            "text/plain": [
              "<Figure size 432x288 with 1 Axes>"
            ]
          },
          "metadata": {
            "tags": [],
            "needs_background": "light"
          }
        }
      ]
    },
    {
      "cell_type": "code",
      "metadata": {
        "id": "h27jSZyImnIt",
        "colab_type": "code",
        "colab": {}
      },
      "source": [
        "# Lets create a simple CNN model with 2 layers \n",
        "from tensorflow.keras import models , layers\n",
        "\n",
        "model_cnn = models.Sequential() # Load sequential model \n",
        "\n",
        "model_cnn.add(layers.Conv2D(32, (3, 3), activation='relu', input_shape=(32, 32, 3))) # add a layer to CNN, with 2D conv layer of 32 filters\n",
        "# of size 3 * 3 ;\n",
        "\n",
        "\n",
        "model_cnn.add(layers.MaxPooling2D((2, 2))) # Add a pooling layer \n",
        "\n",
        "\n",
        "model_cnn.add(layers.Conv2D(64, (3, 3), activation='relu')) # add second layer to CNN \n",
        "model_cnn.add(layers.MaxPooling2D((2, 2))) # add max pooling to second layer \n",
        "\n",
        "model_cnn.add(layers.Conv2D(128, (3, 3), activation='relu')) # add second layer to CNN \n",
        "model_cnn.add(layers.MaxPooling2D((2, 2))) # add max pooling to second layer \n",
        "\n",
        "\n",
        "\n",
        "\n",
        "\n"
      ],
      "execution_count": null,
      "outputs": []
    },
    {
      "cell_type": "code",
      "metadata": {
        "id": "97u-7lNAoYan",
        "colab_type": "code",
        "colab": {
          "base_uri": "https://localhost:8080/",
          "height": 357
        },
        "outputId": "e784ef92-fcef-4e7e-d36e-dac6b1a1139f"
      },
      "source": [
        "model_cnn.summary()"
      ],
      "execution_count": null,
      "outputs": [
        {
          "output_type": "stream",
          "text": [
            "Model: \"sequential\"\n",
            "_________________________________________________________________\n",
            "Layer (type)                 Output Shape              Param #   \n",
            "=================================================================\n",
            "conv2d (Conv2D)              (None, 30, 30, 32)        896       \n",
            "_________________________________________________________________\n",
            "max_pooling2d (MaxPooling2D) (None, 15, 15, 32)        0         \n",
            "_________________________________________________________________\n",
            "conv2d_1 (Conv2D)            (None, 13, 13, 64)        18496     \n",
            "_________________________________________________________________\n",
            "max_pooling2d_1 (MaxPooling2 (None, 6, 6, 64)          0         \n",
            "_________________________________________________________________\n",
            "conv2d_2 (Conv2D)            (None, 4, 4, 128)         73856     \n",
            "_________________________________________________________________\n",
            "max_pooling2d_2 (MaxPooling2 (None, 2, 2, 128)         0         \n",
            "=================================================================\n",
            "Total params: 93,248\n",
            "Trainable params: 93,248\n",
            "Non-trainable params: 0\n",
            "_________________________________________________________________\n"
          ],
          "name": "stdout"
        }
      ]
    },
    {
      "cell_type": "code",
      "metadata": {
        "id": "Av1DKq6cot8j",
        "colab_type": "code",
        "colab": {}
      },
      "source": [
        "# Now we add the flatten layer and output layer \n",
        "model_cnn.add(layers.Flatten())\n",
        "model_cnn.add(layers.Dense(128, activation='relu'))\n",
        "model_cnn.add(layers.Dense(10))"
      ],
      "execution_count": null,
      "outputs": []
    },
    {
      "cell_type": "code",
      "metadata": {
        "id": "bZBomQ5eo8jB",
        "colab_type": "code",
        "colab": {
          "base_uri": "https://localhost:8080/",
          "height": 459
        },
        "outputId": "9a2caf89-cc49-4bf1-f1fd-81273a1c1a90"
      },
      "source": [
        "model_cnn.summary()"
      ],
      "execution_count": null,
      "outputs": [
        {
          "output_type": "stream",
          "text": [
            "Model: \"sequential\"\n",
            "_________________________________________________________________\n",
            "Layer (type)                 Output Shape              Param #   \n",
            "=================================================================\n",
            "conv2d (Conv2D)              (None, 30, 30, 32)        896       \n",
            "_________________________________________________________________\n",
            "max_pooling2d (MaxPooling2D) (None, 15, 15, 32)        0         \n",
            "_________________________________________________________________\n",
            "conv2d_1 (Conv2D)            (None, 13, 13, 64)        18496     \n",
            "_________________________________________________________________\n",
            "max_pooling2d_1 (MaxPooling2 (None, 6, 6, 64)          0         \n",
            "_________________________________________________________________\n",
            "conv2d_2 (Conv2D)            (None, 4, 4, 128)         73856     \n",
            "_________________________________________________________________\n",
            "max_pooling2d_2 (MaxPooling2 (None, 2, 2, 128)         0         \n",
            "_________________________________________________________________\n",
            "flatten (Flatten)            (None, 512)               0         \n",
            "_________________________________________________________________\n",
            "dense (Dense)                (None, 128)               65664     \n",
            "_________________________________________________________________\n",
            "dense_1 (Dense)              (None, 10)                1290      \n",
            "=================================================================\n",
            "Total params: 160,202\n",
            "Trainable params: 160,202\n",
            "Non-trainable params: 0\n",
            "_________________________________________________________________\n"
          ],
          "name": "stdout"
        }
      ]
    },
    {
      "cell_type": "code",
      "metadata": {
        "id": "lkfUtL2YpIjg",
        "colab_type": "code",
        "colab": {
          "base_uri": "https://localhost:8080/",
          "height": 1000
        },
        "outputId": "3e9b65a2-2b26-4f0b-bdfb-1b7272006ad1"
      },
      "source": [
        "# Lets compile the model now \n",
        "model_cnn.compile(optimizer= 'adam',\n",
        "                  loss=tf.keras.losses.SparseCategoricalCrossentropy(from_logits=True),\n",
        "                   metrics=['accuracy'])\n",
        "\n",
        "history = model_cnn.fit(train_images, train_labels, epochs=50,\n",
        "                        validation_data=(test_images, test_labels))"
      ],
      "execution_count": null,
      "outputs": [
        {
          "output_type": "stream",
          "text": [
            "Epoch 1/50\n",
            "1563/1563 [==============================] - 11s 7ms/step - loss: 1.5013 - accuracy: 0.4511 - val_loss: 1.2230 - val_accuracy: 0.5619\n",
            "Epoch 2/50\n",
            "1563/1563 [==============================] - 10s 6ms/step - loss: 1.1255 - accuracy: 0.6025 - val_loss: 1.1234 - val_accuracy: 0.6092\n",
            "Epoch 3/50\n",
            "1563/1563 [==============================] - 10s 6ms/step - loss: 0.9594 - accuracy: 0.6636 - val_loss: 0.9775 - val_accuracy: 0.6567\n",
            "Epoch 4/50\n",
            "1563/1563 [==============================] - 10s 6ms/step - loss: 0.8596 - accuracy: 0.6984 - val_loss: 0.9091 - val_accuracy: 0.6873\n",
            "Epoch 5/50\n",
            "1563/1563 [==============================] - 10s 6ms/step - loss: 0.7724 - accuracy: 0.7320 - val_loss: 0.8638 - val_accuracy: 0.7082\n",
            "Epoch 6/50\n",
            "1563/1563 [==============================] - 10s 6ms/step - loss: 0.7050 - accuracy: 0.7537 - val_loss: 0.8796 - val_accuracy: 0.7022\n",
            "Epoch 7/50\n",
            "1563/1563 [==============================] - 11s 7ms/step - loss: 0.6451 - accuracy: 0.7751 - val_loss: 0.8407 - val_accuracy: 0.7163\n",
            "Epoch 8/50\n",
            "1563/1563 [==============================] - 10s 7ms/step - loss: 0.5929 - accuracy: 0.7932 - val_loss: 0.8517 - val_accuracy: 0.7165\n",
            "Epoch 9/50\n",
            "1563/1563 [==============================] - 10s 7ms/step - loss: 0.5432 - accuracy: 0.8079 - val_loss: 0.8732 - val_accuracy: 0.7089\n",
            "Epoch 10/50\n",
            "1563/1563 [==============================] - 11s 7ms/step - loss: 0.5007 - accuracy: 0.8231 - val_loss: 0.8878 - val_accuracy: 0.7174\n",
            "Epoch 11/50\n",
            "1563/1563 [==============================] - 10s 7ms/step - loss: 0.4616 - accuracy: 0.8372 - val_loss: 0.9260 - val_accuracy: 0.7163\n",
            "Epoch 12/50\n",
            "1563/1563 [==============================] - 10s 7ms/step - loss: 0.4245 - accuracy: 0.8497 - val_loss: 0.9510 - val_accuracy: 0.7140\n",
            "Epoch 13/50\n",
            "1563/1563 [==============================] - 10s 7ms/step - loss: 0.3862 - accuracy: 0.8632 - val_loss: 1.0124 - val_accuracy: 0.7122\n",
            "Epoch 14/50\n",
            "1563/1563 [==============================] - 10s 7ms/step - loss: 0.3574 - accuracy: 0.8731 - val_loss: 1.0555 - val_accuracy: 0.7037\n",
            "Epoch 15/50\n",
            "1563/1563 [==============================] - 10s 7ms/step - loss: 0.3310 - accuracy: 0.8822 - val_loss: 1.1222 - val_accuracy: 0.7009\n",
            "Epoch 16/50\n",
            "1563/1563 [==============================] - 10s 7ms/step - loss: 0.3005 - accuracy: 0.8928 - val_loss: 1.2177 - val_accuracy: 0.6993\n",
            "Epoch 17/50\n",
            "1563/1563 [==============================] - 10s 7ms/step - loss: 0.2813 - accuracy: 0.8984 - val_loss: 1.1933 - val_accuracy: 0.7029\n",
            "Epoch 18/50\n",
            "1563/1563 [==============================] - 10s 7ms/step - loss: 0.2579 - accuracy: 0.9067 - val_loss: 1.2543 - val_accuracy: 0.7039\n",
            "Epoch 19/50\n",
            "1563/1563 [==============================] - 10s 7ms/step - loss: 0.2377 - accuracy: 0.9138 - val_loss: 1.3119 - val_accuracy: 0.7080\n",
            "Epoch 20/50\n",
            "1563/1563 [==============================] - 10s 7ms/step - loss: 0.2183 - accuracy: 0.9218 - val_loss: 1.3959 - val_accuracy: 0.7016\n",
            "Epoch 21/50\n",
            "1563/1563 [==============================] - 10s 7ms/step - loss: 0.2023 - accuracy: 0.9274 - val_loss: 1.5038 - val_accuracy: 0.6971\n",
            "Epoch 22/50\n",
            "1563/1563 [==============================] - 10s 7ms/step - loss: 0.1990 - accuracy: 0.9287 - val_loss: 1.5632 - val_accuracy: 0.7013\n",
            "Epoch 23/50\n",
            "1563/1563 [==============================] - 10s 7ms/step - loss: 0.1879 - accuracy: 0.9324 - val_loss: 1.5229 - val_accuracy: 0.7006\n",
            "Epoch 24/50\n",
            "1563/1563 [==============================] - 10s 7ms/step - loss: 0.1753 - accuracy: 0.9370 - val_loss: 1.6404 - val_accuracy: 0.6968\n",
            "Epoch 25/50\n",
            "1563/1563 [==============================] - 10s 7ms/step - loss: 0.1703 - accuracy: 0.9386 - val_loss: 1.6502 - val_accuracy: 0.6956\n",
            "Epoch 26/50\n",
            "1563/1563 [==============================] - 10s 7ms/step - loss: 0.1652 - accuracy: 0.9405 - val_loss: 1.6999 - val_accuracy: 0.6993\n",
            "Epoch 27/50\n",
            "1563/1563 [==============================] - 10s 7ms/step - loss: 0.1416 - accuracy: 0.9495 - val_loss: 1.8061 - val_accuracy: 0.6958\n",
            "Epoch 28/50\n",
            "1563/1563 [==============================] - 10s 7ms/step - loss: 0.1537 - accuracy: 0.9456 - val_loss: 2.0034 - val_accuracy: 0.6956\n",
            "Epoch 29/50\n",
            "1563/1563 [==============================] - 10s 7ms/step - loss: 0.1456 - accuracy: 0.9491 - val_loss: 1.8789 - val_accuracy: 0.6964\n",
            "Epoch 30/50\n",
            "1563/1563 [==============================] - 10s 7ms/step - loss: 0.1453 - accuracy: 0.9491 - val_loss: 1.9404 - val_accuracy: 0.6976\n",
            "Epoch 31/50\n",
            "1563/1563 [==============================] - 10s 7ms/step - loss: 0.1325 - accuracy: 0.9539 - val_loss: 2.0261 - val_accuracy: 0.6959\n",
            "Epoch 32/50\n",
            "1563/1563 [==============================] - 10s 7ms/step - loss: 0.1350 - accuracy: 0.9525 - val_loss: 2.0831 - val_accuracy: 0.6983\n",
            "Epoch 33/50\n",
            "1563/1563 [==============================] - 10s 7ms/step - loss: 0.1326 - accuracy: 0.9541 - val_loss: 2.0895 - val_accuracy: 0.6903\n",
            "Epoch 34/50\n",
            "1563/1563 [==============================] - 10s 6ms/step - loss: 0.1243 - accuracy: 0.9571 - val_loss: 2.1307 - val_accuracy: 0.7042\n",
            "Epoch 35/50\n",
            "1563/1563 [==============================] - 10s 7ms/step - loss: 0.1298 - accuracy: 0.9557 - val_loss: 2.1759 - val_accuracy: 0.7004\n",
            "Epoch 36/50\n",
            "1563/1563 [==============================] - 10s 7ms/step - loss: 0.1232 - accuracy: 0.9571 - val_loss: 2.1879 - val_accuracy: 0.7011\n",
            "Epoch 37/50\n",
            "1563/1563 [==============================] - 11s 7ms/step - loss: 0.1223 - accuracy: 0.9573 - val_loss: 2.2408 - val_accuracy: 0.6903\n",
            "Epoch 38/50\n",
            "1563/1563 [==============================] - 10s 7ms/step - loss: 0.1109 - accuracy: 0.9615 - val_loss: 2.2496 - val_accuracy: 0.6957\n",
            "Epoch 39/50\n",
            "1563/1563 [==============================] - 10s 7ms/step - loss: 0.1191 - accuracy: 0.9594 - val_loss: 2.4503 - val_accuracy: 0.6963\n",
            "Epoch 40/50\n",
            "1563/1563 [==============================] - 12s 7ms/step - loss: 0.1135 - accuracy: 0.9622 - val_loss: 2.3719 - val_accuracy: 0.6920\n",
            "Epoch 41/50\n",
            "1563/1563 [==============================] - 11s 7ms/step - loss: 0.1140 - accuracy: 0.9617 - val_loss: 2.4269 - val_accuracy: 0.6962\n",
            "Epoch 42/50\n",
            "1563/1563 [==============================] - 11s 7ms/step - loss: 0.1109 - accuracy: 0.9625 - val_loss: 2.4338 - val_accuracy: 0.6957\n",
            "Epoch 43/50\n",
            "1563/1563 [==============================] - 11s 7ms/step - loss: 0.1101 - accuracy: 0.9634 - val_loss: 2.4434 - val_accuracy: 0.6910\n",
            "Epoch 44/50\n",
            "1563/1563 [==============================] - 11s 7ms/step - loss: 0.0986 - accuracy: 0.9658 - val_loss: 2.4836 - val_accuracy: 0.7007\n",
            "Epoch 45/50\n",
            "1563/1563 [==============================] - 10s 7ms/step - loss: 0.1134 - accuracy: 0.9611 - val_loss: 2.4255 - val_accuracy: 0.6902\n",
            "Epoch 46/50\n",
            "1563/1563 [==============================] - 10s 7ms/step - loss: 0.1072 - accuracy: 0.9650 - val_loss: 2.5119 - val_accuracy: 0.6908\n",
            "Epoch 47/50\n",
            "1563/1563 [==============================] - 10s 7ms/step - loss: 0.0968 - accuracy: 0.9667 - val_loss: 2.4784 - val_accuracy: 0.6951\n",
            "Epoch 48/50\n",
            "1563/1563 [==============================] - 10s 7ms/step - loss: 0.1080 - accuracy: 0.9641 - val_loss: 2.7259 - val_accuracy: 0.6678\n",
            "Epoch 49/50\n",
            "1563/1563 [==============================] - 11s 7ms/step - loss: 0.0927 - accuracy: 0.9686 - val_loss: 2.5265 - val_accuracy: 0.6908\n",
            "Epoch 50/50\n",
            "1563/1563 [==============================] - 11s 7ms/step - loss: 0.1019 - accuracy: 0.9664 - val_loss: 2.7696 - val_accuracy: 0.6901\n"
          ],
          "name": "stdout"
        }
      ]
    },
    {
      "cell_type": "code",
      "metadata": {
        "id": "vak50SQCv66-",
        "colab_type": "code",
        "colab": {
          "base_uri": "https://localhost:8080/",
          "height": 300
        },
        "outputId": "de379ae4-6c27-4bb3-8769-c6df81abb8fa"
      },
      "source": [
        "plt.plot(history.history['accuracy'], label='accuracy')\n",
        "plt.plot(history.history['val_accuracy'], label = 'val_accuracy')\n",
        "plt.xlabel('Epoch')\n",
        "plt.ylabel('Accuracy')\n",
        "plt.ylim([0.5, 1])\n",
        "plt.legend(loc='lower right')\n",
        "\n",
        "test_loss, test_acc = model_cnn.evaluate(test_images,  test_labels, verbose=2)"
      ],
      "execution_count": null,
      "outputs": [
        {
          "output_type": "stream",
          "text": [
            "313/313 - 1s - loss: 2.7696 - accuracy: 0.6901\n"
          ],
          "name": "stdout"
        },
        {
          "output_type": "display_data",
          "data": {
            "image/png": "[encoded data removed]",
            "text/plain": [
              "<Figure size 432x288 with 1 Axes>"
            ]
          },
          "metadata": {
            "tags": [],
            "needs_background": "light"
          }
        }
      ]
    },
    {
      "cell_type": "markdown",
      "metadata": {
        "id": "U745sFzqwNYh",
        "colab_type": "text"
      },
      "source": [
        "I have played with layers: \n",
        "\n",
        "First i start with 2 layers, in that case the training accuracy was around 90 % but the test was around 65 %\n",
        "When i add a new convolution layer, the training accuracy reached to 96 % but the testing accuracy was saturated to 69 % in first 10 epochs. I am pretty sure this is case of overfitting. \n"
      ]
    }
  ]
}