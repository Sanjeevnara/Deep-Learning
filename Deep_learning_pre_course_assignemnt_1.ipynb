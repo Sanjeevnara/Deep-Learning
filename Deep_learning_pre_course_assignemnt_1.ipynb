{
  "nbformat": 4,
  "nbformat_minor": 0,
  "metadata": {
    "colab": {
      "name": "Deep_learning_pre-course_assignemnt_1",
      "provenance": [],
      "collapsed_sections": [],
      "include_colab_link": true
    },
    "kernelspec": {
      "name": "python3",
      "display_name": "Python 3"
    },
    "accelerator": "GPU"
  },
  "cells": [
    {
      "cell_type": "markdown",
      "metadata": {
        "id": "view-in-github",
        "colab_type": "text"
      },
      "source": [
        "<a href=\"https://colab.research.google.com/github/Sanjeevnara/Deep-Learning/blob/master/Deep_learning_pre_course_assignemnt_1.ipynb\" target=\"_parent\"><img src=\"https://colab.research.google.com/assets/colab-badge.svg\" alt=\"Open In Colab\"/></a>"
      ]
    },
    {
      "cell_type": "markdown",
      "metadata": {
        "id": "5EhOo8P-CcOL",
        "colab_type": "text"
      },
      "source": [
        "# First we load the Fashion MNIST dataset "
      ]
    },
    {
      "cell_type": "code",
      "metadata": {
        "id": "O4TpcE-ECScZ",
        "colab_type": "code",
        "colab": {}
      },
      "source": [
        "# Load the libraries we will need \n",
        "import tensorflow as tf\n",
        "import sklearn as sklearn\n",
        "import matplotlib.pyplot as plt\n",
        "import numpy as np\n",
        " "
      ],
      "execution_count": null,
      "outputs": []
    },
    {
      "cell_type": "code",
      "metadata": {
        "id": "RfDjXmfSDUoj",
        "colab_type": "code",
        "colab": {
          "base_uri": "https://localhost:8080/",
          "height": 153
        },
        "outputId": "b68d3486-eb89-49cd-e3d8-c29dc5a819cd"
      },
      "source": [
        "fashion_mnist = tf.keras.datasets.fashion_mnist\n",
        "\n",
        "(train_images, train_labels), (test_images, test_labels) = fashion_mnist.load_data()"
      ],
      "execution_count": null,
      "outputs": [
        {
          "output_type": "stream",
          "text": [
            "Downloading data from https://storage.googleapis.com/tensorflow/tf-keras-datasets/train-labels-idx1-ubyte.gz\n",
            "32768/29515 [=================================] - 0s 0us/step\n",
            "Downloading data from https://storage.googleapis.com/tensorflow/tf-keras-datasets/train-images-idx3-ubyte.gz\n",
            "26427392/26421880 [==============================] - 0s 0us/step\n",
            "Downloading data from https://storage.googleapis.com/tensorflow/tf-keras-datasets/t10k-labels-idx1-ubyte.gz\n",
            "8192/5148 [===============================================] - 0s 0us/step\n",
            "Downloading data from https://storage.googleapis.com/tensorflow/tf-keras-datasets/t10k-images-idx3-ubyte.gz\n",
            "4423680/4422102 [==============================] - 0s 0us/step\n"
          ],
          "name": "stdout"
        }
      ]
    },
    {
      "cell_type": "code",
      "metadata": {
        "id": "qP_nSDsBDqkY",
        "colab_type": "code",
        "colab": {
          "base_uri": "https://localhost:8080/",
          "height": 85
        },
        "outputId": "42cdbcc7-045f-43a4-a333-35791779e5f0"
      },
      "source": [
        "# Now explore the train and test data by checking the shape, type, some samples etc \n",
        "print(train_images.shape )\n",
        "print(test_images.shape)\n",
        "\n",
        "print(type(train_images))\n",
        "print(type(test_images))\n",
        "\n",
        "\n"
      ],
      "execution_count": null,
      "outputs": [
        {
          "output_type": "stream",
          "text": [
            "(60000, 28, 28)\n",
            "(10000, 28, 28)\n",
            "<class 'numpy.ndarray'>\n",
            "<class 'numpy.ndarray'>\n"
          ],
          "name": "stdout"
        }
      ]
    },
    {
      "cell_type": "code",
      "metadata": {
        "id": "2cqSRgdoEID2",
        "colab_type": "code",
        "colab": {
          "base_uri": "https://localhost:8080/",
          "height": 282
        },
        "outputId": "f8a75668-7202-4f36-ad99-995daf301121"
      },
      "source": [
        "plt.imshow(train_images[0])"
      ],
      "execution_count": null,
      "outputs": [
        {
          "output_type": "execute_result",
          "data": {
            "text/plain": [
              "<matplotlib.image.AxesImage at 0x7f522a752ba8>"
            ]
          },
          "metadata": {
            "tags": []
          },
          "execution_count": 6
        },
        {
          "output_type": "display_data",
          "data": {
            "image/png": "[encoded data removed]",
            "text/plain": [
              "<Figure size 432x288 with 1 Axes>"
            ]
          },
          "metadata": {
            "tags": [],
            "needs_background": "light"
          }
        }
      ]
    },
    {
      "cell_type": "code",
      "metadata": {
        "id": "eNy8jnJfEZS9",
        "colab_type": "code",
        "colab": {
          "base_uri": "https://localhost:8080/",
          "height": 282
        },
        "outputId": "8c71bd75-a5c9-445a-e86b-911258417b1c"
      },
      "source": [
        "plt.imshow(train_images[100])"
      ],
      "execution_count": null,
      "outputs": [
        {
          "output_type": "execute_result",
          "data": {
            "text/plain": [
              "<matplotlib.image.AxesImage at 0x7f522a2a32b0>"
            ]
          },
          "metadata": {
            "tags": []
          },
          "execution_count": 7
        },
        {
          "output_type": "display_data",
          "data": {
            "image/png": "[encoded data removed]",
            "text/plain": [
              "<Figure size 432x288 with 1 Axes>"
            ]
          },
          "metadata": {
            "tags": [],
            "needs_background": "light"
          }
        }
      ]
    },
    {
      "cell_type": "markdown",
      "metadata": {
        "id": "Qaai3igcFqby",
        "colab_type": "text"
      },
      "source": [
        ""
      ]
    },
    {
      "cell_type": "code",
      "metadata": {
        "id": "_qlJ_30CFo_V",
        "colab_type": "code",
        "colab": {
          "base_uri": "https://localhost:8080/",
          "height": 119
        },
        "outputId": "1576620d-caef-4ecd-e998-973164e6739d"
      },
      "source": [
        "# Now we Train the svm classifier with the default images and compute different metrics: \n",
        "\n",
        "from sklearn import svm\n",
        "# since we have the data in 3D array, lets first convert it to 2D \n",
        "train_data = np.reshape(train_images,(train_images.shape[0],train_images.shape[1]*train_images.shape[2]))\n",
        "test_data  = np.reshape(test_images,(test_images.shape[0],test_images.shape[1]*test_images.shape[2]))\n",
        "\n",
        "# This is taking long time to execute, lets try a shorter version of data \n",
        "\n",
        "train_data_short = train_data[0:20000]\n",
        "train_labels_short = train_labels[0:20000]\n",
        "clf_svm = svm.LinearSVC(random_state= 1111)\n",
        "\n",
        "clf_svm.fit(train_data_short,train_labels_short)\n"
      ],
      "execution_count": null,
      "outputs": [
        {
          "output_type": "stream",
          "text": [
            "/usr/local/lib/python3.6/dist-packages/sklearn/svm/_base.py:947: ConvergenceWarning: Liblinear failed to converge, increase the number of iterations.\n",
            "  \"the number of iterations.\", ConvergenceWarning)\n"
          ],
          "name": "stderr"
        },
        {
          "output_type": "execute_result",
          "data": {
            "text/plain": [
              "LinearSVC(C=1.0, class_weight=None, dual=True, fit_intercept=True,\n",
              "          intercept_scaling=1, loss='squared_hinge', max_iter=1000,\n",
              "          multi_class='ovr', penalty='l2', random_state=1111, tol=0.0001,\n",
              "          verbose=0)"
            ]
          },
          "metadata": {
            "tags": []
          },
          "execution_count": 8
        }
      ]
    },
    {
      "cell_type": "code",
      "metadata": {
        "id": "CHI7TcEZIdFP",
        "colab_type": "code",
        "colab": {
          "base_uri": "https://localhost:8080/",
          "height": 34
        },
        "outputId": "d88730b0-ce3c-4675-99e9-7804b634430d"
      },
      "source": [
        "pred_labels = clf_svm.predict(test_data)\n",
        "\n",
        "from sklearn.metrics import accuracy_score, average_precision_score, recall_score\n",
        "\n",
        "acc_svm = accuracy_score(test_labels,pred_labels)\n",
        "# Since we have multiclass data, it is not possible to use the average fundtions\n",
        "# We have to train oneVsAll SVM classifier \n",
        "# precision_svm = average_precision_score(test_labels,pred_labels)\n",
        "#recall_svm = recall_score(test_labels,pred_labels)\n",
        "print('The accuracy of SVM classifier is ', acc_svm * 100 , '%')\n",
        "#print(precision_svm)\n",
        "#print(recall_svm)\n",
        "\n",
        "\n",
        "\n"
      ],
      "execution_count": null,
      "outputs": [
        {
          "output_type": "stream",
          "text": [
            "The accuracy of SVM classifier is  78.42 %\n"
          ],
          "name": "stdout"
        }
      ]
    },
    {
      "cell_type": "markdown",
      "metadata": {
        "id": "sZp1KFCgOMZV",
        "colab_type": "text"
      },
      "source": [
        "# Lets train the same data with MLP\n",
        "### I have kept most of the parameters default\n"
      ]
    },
    {
      "cell_type": "code",
      "metadata": {
        "id": "A3-8iQhoOL-r",
        "colab_type": "code",
        "colab": {
          "base_uri": "https://localhost:8080/",
          "height": 153
        },
        "outputId": "21280f6a-b7d4-434a-abab-6dec4544c0ff"
      },
      "source": [
        "from sklearn.neural_network import MLPClassifier\n",
        "\n",
        "clf_mlp = MLPClassifier(random_state= 1111, max_iter= 200)\n",
        "\n",
        "clf_mlp.fit(train_data,train_labels)"
      ],
      "execution_count": null,
      "outputs": [
        {
          "output_type": "execute_result",
          "data": {
            "text/plain": [
              "MLPClassifier(activation='relu', alpha=0.0001, batch_size='auto', beta_1=0.9,\n",
              "              beta_2=0.999, early_stopping=False, epsilon=1e-08,\n",
              "              hidden_layer_sizes=(100,), learning_rate='constant',\n",
              "              learning_rate_init=0.001, max_fun=15000, max_iter=200,\n",
              "              momentum=0.9, n_iter_no_change=10, nesterovs_momentum=True,\n",
              "              power_t=0.5, random_state=1111, shuffle=True, solver='adam',\n",
              "              tol=0.0001, validation_fraction=0.1, verbose=False,\n",
              "              warm_start=False)"
            ]
          },
          "metadata": {
            "tags": []
          },
          "execution_count": 10
        }
      ]
    },
    {
      "cell_type": "code",
      "metadata": {
        "id": "2b4jZNV3Q83T",
        "colab_type": "code",
        "colab": {
          "base_uri": "https://localhost:8080/",
          "height": 34
        },
        "outputId": "ea7d9b2a-4098-40ef-ba33-a4556957f103"
      },
      "source": [
        "# now we test the data and compute the accuracy for MLP \n",
        "\n",
        "pred_lab_mlp = clf_mlp.predict(test_data)\n",
        "acc_mlp = accuracy_score(test_labels,pred_lab_mlp)\n",
        "print('The accuracy of MLP classifier is ', acc_mlp * 100 , '%')\n"
      ],
      "execution_count": null,
      "outputs": [
        {
          "output_type": "stream",
          "text": [
            "The accuracy of MLP classifier is  84.87 %\n"
          ],
          "name": "stdout"
        }
      ]
    },
    {
      "cell_type": "markdown",
      "metadata": {
        "id": "WHoRc_ZoRYLU",
        "colab_type": "text"
      },
      "source": [
        "### The accuraacy with MLP default settings in 84 %, lets try to twaek some of the parameters and see how does this vary\n"
      ]
    },
    {
      "cell_type": "code",
      "metadata": {
        "id": "eE85XJgqRlrA",
        "colab_type": "code",
        "colab": {
          "base_uri": "https://localhost:8080/",
          "height": 153
        },
        "outputId": "85e21fb3-b775-4c10-f754-b9ae008d33fc"
      },
      "source": [
        "from sklearn.neural_network import MLPClassifier\n",
        "\n",
        "clf_mlp_2 = MLPClassifier(random_state= 1111, max_iter= 500,hidden_layer_sizes= train_data.shape[1])\n",
        "\n",
        "clf_mlp_2.fit(train_data,train_labels)"
      ],
      "execution_count": null,
      "outputs": [
        {
          "output_type": "execute_result",
          "data": {
            "text/plain": [
              "MLPClassifier(activation='relu', alpha=0.0001, batch_size='auto', beta_1=0.9,\n",
              "              beta_2=0.999, early_stopping=False, epsilon=1e-08,\n",
              "              hidden_layer_sizes=784, learning_rate='constant',\n",
              "              learning_rate_init=0.001, max_fun=15000, max_iter=500,\n",
              "              momentum=0.9, n_iter_no_change=10, nesterovs_momentum=True,\n",
              "              power_t=0.5, random_state=1111, shuffle=True, solver='adam',\n",
              "              tol=0.0001, validation_fraction=0.1, verbose=False,\n",
              "              warm_start=False)"
            ]
          },
          "metadata": {
            "tags": []
          },
          "execution_count": 23
        }
      ]
    },
    {
      "cell_type": "code",
      "metadata": {
        "id": "-Zcn859CSUCZ",
        "colab_type": "code",
        "colab": {
          "base_uri": "https://localhost:8080/",
          "height": 34
        },
        "outputId": "da97a01f-cfe1-436a-8e2e-d664833779b6"
      },
      "source": [
        "pred_lab_mlp_2 = clf_mlp_2.predict(test_data)\n",
        "acc_mlp_2 = accuracy_score(test_labels,pred_lab_mlp_2)\n",
        "print('The accuracy of MLP classifier is ', acc_mlp_2 * 100 , '%')\n",
        "\n",
        "# this improved the accuracy by 1 % "
      ],
      "execution_count": null,
      "outputs": [
        {
          "output_type": "stream",
          "text": [
            "The accuracy of MLP classifier is  85.84 %\n"
          ],
          "name": "stdout"
        }
      ]
    },
    {
      "cell_type": "markdown",
      "metadata": {
        "id": "ShMt3bIuf4lR",
        "colab_type": "text"
      },
      "source": [
        "### Lets test the naive bayes classifier "
      ]
    },
    {
      "cell_type": "code",
      "metadata": {
        "id": "srv39GNFf3gN",
        "colab_type": "code",
        "colab": {
          "base_uri": "https://localhost:8080/",
          "height": 34
        },
        "outputId": "8cb27a6d-33d2-4c1d-b66c-8bd0a3c1e2d3"
      },
      "source": [
        "from sklearn.naive_bayes import GaussianNB\n",
        "\n",
        "clf_nb = GaussianNB()\n",
        "clf_nb.fit(train_data,train_labels)\n",
        "\n",
        "pred_lab_nb = clf_nb.predict(test_data)\n",
        "acc_nb = accuracy_score(test_labels,pred_lab_nb)\n",
        "print('The accuracy of Naive Bayes classifier is ', acc_nb * 100 , '%')\n"
      ],
      "execution_count": null,
      "outputs": [
        {
          "output_type": "stream",
          "text": [
            "The accuracy of Naive Bayes classifier is  58.56 %\n"
          ],
          "name": "stdout"
        }
      ]
    },
    {
      "cell_type": "code",
      "metadata": {
        "id": "lw9feiwsgrhY",
        "colab_type": "code",
        "colab": {
          "base_uri": "https://localhost:8080/",
          "height": 283
        },
        "outputId": "e1d0ee1f-c3fb-44d8-d4d0-2fcaefc1bea5"
      },
      "source": [
        " # Here we go for the plot \n",
        "classifiers = ['SVM', 'MLP', 'NB']\n",
        "Accuracies = [acc_svm * 100 , acc_mlp_2 * 100 , acc_nb * 100] \n",
        "#print(Accuracies)\n",
        "\n",
        "plt.bar(classifiers,Accuracies)\n",
        "plt.xlabel('Classifiers')\n",
        "plt.ylabel('Accuracy')\n",
        "plt.ylim(0,100)\n",
        "plt.show()\n"
      ],
      "execution_count": null,
      "outputs": [
        {
          "output_type": "display_data",
          "data": {
            "image/png": "[encoded data removed]",
            "text/plain": [
              "<Figure size 432x288 with 1 Axes>"
            ]
          },
          "metadata": {
            "tags": [],
            "needs_background": "light"
          }
        }
      ]
    }
  ]
}